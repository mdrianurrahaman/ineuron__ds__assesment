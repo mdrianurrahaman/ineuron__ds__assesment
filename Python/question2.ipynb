{
 "cells": [
  {
   "cell_type": "markdown",
   "metadata": {},
   "source": [
    "# question 2\n",
    " Given an array of length ‘N’, where each element denotes the position of a stall. Now you have ‘N’ stalls and an integer ‘K’ which denotes the number of horses that are mad. To prevent the horses from hurting each other, you need to assign the horses to the stalls, such that the minimum distance between any two of them is as large as possible. Return the largest minimum distance.\n",
    "\n",
    "array: 1,2,4,8,9  &  k=3\n",
    "\n",
    "O/P: 3\n",
    "\n",
    "Explanation: 1st horse at stall 1, 2nd horse at stall 4 and 3rd horse at stall 8\n"
   ]
  },
  {
   "cell_type": "code",
   "execution_count": 1,
   "metadata": {},
   "outputs": [
    {
     "name": "stdout",
     "output_type": "stream",
     "text": [
      "3\n"
     ]
    }
   ],
   "source": [
    "def count_horses(stalls, distance):\n",
    "    count = 1\n",
    "    last_position = stalls[0]\n",
    "    for i in range(1, len(stalls)):\n",
    "        if stalls[i] - last_position >= distance:\n",
    "            count += 1\n",
    "            last_position = stalls[i]\n",
    "    return count\n",
    "\n",
    "def max_min_distance(stalls, k):\n",
    "    stalls.sort()\n",
    "    left = 1  # Minimum possible distance\n",
    "    right = stalls[-1] - stalls[0]  # Maximum possible distance\n",
    "    result = 0\n",
    "\n",
    "    while left <= right:\n",
    "        mid = (left + right) // 2\n",
    "        if count_horses(stalls, mid) >= k:\n",
    "            result = mid\n",
    "            left = mid + 1\n",
    "        else:\n",
    "            right = mid - 1\n",
    "\n",
    "    return result\n",
    "\n",
    "# Example usage:\n",
    "stalls = [1, 2, 4, 8, 9]\n",
    "k = 3\n",
    "print(max_min_distance(stalls, k))  # Output: 3\n"
   ]
  }
 ],
 "metadata": {
  "kernelspec": {
   "display_name": "Python 3",
   "language": "python",
   "name": "python3"
  },
  "language_info": {
   "codemirror_mode": {
    "name": "ipython",
    "version": 3
   },
   "file_extension": ".py",
   "mimetype": "text/x-python",
   "name": "python",
   "nbconvert_exporter": "python",
   "pygments_lexer": "ipython3",
   "version": "3.11.4"
  }
 },
 "nbformat": 4,
 "nbformat_minor": 2
}
