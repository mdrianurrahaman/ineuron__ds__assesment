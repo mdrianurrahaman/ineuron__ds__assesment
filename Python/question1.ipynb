{
 "cells": [
  {
   "cell_type": "markdown",
   "metadata": {},
   "source": [
    "# Question: 1\n",
    "\n",
    "\n",
    "You have an input dictionary given,\n",
    "\n",
    "input_dict = {\"abc\":{\"def\":{\"ghi\":{\"jkl\":{\"mno\":{\"pqr\":{\"stu\":{\"vwx\":{\"yz\":\"you are finally here !!!\"}}}}}}}}}\n",
    "\n",
    "Task:  You have to write a Python function that will take this input and print it like that,\n",
    "\n",
    "output = {\"abc\":[\"def\",\"ghi\",\"jkl\",\"mno\",\"pqr\",\"stu\",\"vwx\",\"yz\"],\n",
    " \"def\":[\"ghi\",\"jkl\",\"mno\",\"pqr\",\"stu\",\"vwx\",\"yz\"],\n",
    " \"ghi\":[\"jkl\",\"mno\",\"pqr\",\"stu\",\"vwx\",\"yz\"],\n",
    " \"jkl\":[\"mno\",\"pqr\",\"stu\",\"vwx\",\"yz\"],\n",
    " \"mno\":[\"pqr\",\"stu\",\"vwx\",\"yz\"],\n",
    " \"pqr\":[\"stu\",\"vwx\",\"yz\"],\n",
    " \"stu\":[\"vwx\",\"yz\"],\n",
    " \"vwx\":[\"yz\"],\n",
    " \"yz\":[\"you are finally here !!!\"]}\n"
   ]
  },
  {
   "cell_type": "code",
   "execution_count": 6,
   "metadata": {},
   "outputs": [
    {
     "name": "stdout",
     "output_type": "stream",
     "text": [
      "{'abc/def/ghi/jkl/mno/pqr/stu/vwx/yz': ['def'], 'def/ghi/jkl/mno/pqr/stu/vwx/yz': ['ghi'], 'ghi/jkl/mno/pqr/stu/vwx/yz': ['jkl'], 'jkl/mno/pqr/stu/vwx/yz': ['mno'], 'mno/pqr/stu/vwx/yz': ['pqr'], 'pqr/stu/vwx/yz': ['stu'], 'stu/vwx/yz': ['vwx'], 'vwx/yz': ['yz'], 'yz': ['you are finally here !!!']}\n"
     ]
    }
   ],
   "source": [
    "def flatten_dict(input_dict, prefix='', output=None):\n",
    "    if output is None:\n",
    "        output = {}\n",
    "    for key, value in input_dict.items():\n",
    "        if isinstance(value, dict):\n",
    "            flatten_dict(value, prefix + key + \"/\", output)\n",
    "        else:\n",
    "            output[prefix + key] = value\n",
    "    return output\n",
    "\n",
    "def convert_to_output(input_dict):\n",
    "    flattened_dict = flatten_dict(input_dict)\n",
    "    output = {}\n",
    "    for key, value in flattened_dict.items():\n",
    "        parts = key.split(\"/\")\n",
    "        for i in range(len(parts)):\n",
    "            sub_key = \"/\".join(parts[i:])\n",
    "            if sub_key not in output:\n",
    "                output[sub_key] = []\n",
    "            if i < len(parts) - 1:\n",
    "                output[sub_key].append(parts[i+1])\n",
    "            else:\n",
    "                output[sub_key].append(value)\n",
    "    return output\n",
    "\n",
    "input_dict = {\"abc\":{\"def\":{\"ghi\":{\"jkl\":{\"mno\":{\"pqr\":{\"stu\":{\"vwx\":{\"yz\":\"you are finally here !!!\"}}}}}}}}}\n",
    "output = convert_to_output(input_dict)\n",
    "print(output)\n"
   ]
  }
 ],
 "metadata": {
  "kernelspec": {
   "display_name": "Python 3",
   "language": "python",
   "name": "python3"
  },
  "language_info": {
   "codemirror_mode": {
    "name": "ipython",
    "version": 3
   },
   "file_extension": ".py",
   "mimetype": "text/x-python",
   "name": "python",
   "nbconvert_exporter": "python",
   "pygments_lexer": "ipython3",
   "version": "3.11.4"
  }
 },
 "nbformat": 4,
 "nbformat_minor": 2
}
