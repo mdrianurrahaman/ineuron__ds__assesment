{
 "cells": [
  {
   "cell_type": "markdown",
   "metadata": {},
   "source": [
    "# question 3 \n",
    "Mr. Karthiken works in a door mat manufacturing company. One day, he designed a new door mat with the following specifications:\n",
    "\n",
    "             a) Mat size must be N X M. (N is an odd natural number, and M is 3 times N.)\n",
    "              b) The design should have ‘WELCOME’ written in the center.\n",
    "              c) The design pattern should only use |, . and – characters.\n",
    "\n",
    "    Sample Design is given above image, Write a python code for this."
   ]
  },
  {
   "cell_type": "code",
   "execution_count": 1,
   "metadata": {},
   "outputs": [
    {
     "name": "stdout",
     "output_type": "stream",
     "text": [
      "---------.|.---------\n",
      "------.|..|..|.------\n",
      "---.|..|..|..|..|.---\n",
      "-------WELCOME-------\n",
      "---.|..|..|..|..|.---\n",
      "------.|..|..|.------\n",
      "---------.|.---------\n"
     ]
    }
   ],
   "source": [
    "def print_door_mat(N, M):\n",
    "    # Upper half pattern\n",
    "    for i in range(N // 2):\n",
    "        pattern = \".|.\" * (2 * i + 1)\n",
    "        print(pattern.center(M, '-'))\n",
    "\n",
    "    # Welcome message\n",
    "    print(\"WELCOME\".center(M, '-'))\n",
    "\n",
    "    # Lower half pattern\n",
    "    for i in range(N // 2 - 1, -1, -1):\n",
    "        pattern = \".|.\" * (2 * i + 1)\n",
    "        print(pattern.center(M, '-'))\n",
    "\n",
    "# Example usage:\n",
    "N = 7  # Height of the door mat (must be an odd number)\n",
    "M = 21  # Width of the door mat (must be 3 times N)\n",
    "\n",
    "print_door_mat(N, M)\n"
   ]
  }
 ],
 "metadata": {
  "kernelspec": {
   "display_name": "Python 3",
   "language": "python",
   "name": "python3"
  },
  "language_info": {
   "codemirror_mode": {
    "name": "ipython",
    "version": 3
   },
   "file_extension": ".py",
   "mimetype": "text/x-python",
   "name": "python",
   "nbconvert_exporter": "python",
   "pygments_lexer": "ipython3",
   "version": "3.11.4"
  }
 },
 "nbformat": 4,
 "nbformat_minor": 2
}
