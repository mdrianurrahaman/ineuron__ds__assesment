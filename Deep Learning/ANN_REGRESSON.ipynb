{
  "nbformat": 4,
  "nbformat_minor": 0,
  "metadata": {
    "colab": {
      "provenance": [],
      "gpuType": "T4"
    },
    "kernelspec": {
      "name": "python3",
      "display_name": "Python 3"
    },
    "language_info": {
      "name": "python"
    },
    "accelerator": "GPU"
  },
  "cells": [
    {
      "cell_type": "code",
      "source": [
        "# Importing libraries\n",
        "import numpy as np\n",
        "import pandas as pd\n",
        "import tensorflow as tf\n",
        "from sklearn.model_selection import train_test_split\n",
        "from sklearn.preprocessing import StandardScaler\n",
        "#from sklearn.datasets import load_boston"
      ],
      "metadata": {
        "id": "Z0-jh1fzJiVV"
      },
      "execution_count": 20,
      "outputs": []
    },
    {
      "cell_type": "code",
      "source": [
        "import pandas as pd\n",
        "import numpy as np\n",
        "\n",
        "# Fetching the Boston housing dataset from the original source\n",
        "data_url = \"http://lib.stat.cmu.edu/datasets/boston\"\n",
        "raw_df = pd.read_csv(data_url, sep=\"\\s+\", skiprows=22, header=None)\n",
        "data = np.hstack([raw_df.values[::2, :], raw_df.values[1::2, :2]])\n",
        "target = raw_df.values[1::2, 2]\n",
        "\n",
        "# Creating a DataFrame with the loaded data\n",
        "dataset = pd.DataFrame(data, columns=[\"CRIM\", \"ZN\", \"INDUS\", \"CHAS\", \"NOX\", \"RM\", \"AGE\", \"DIS\", \"RAD\", \"TAX\", \"PTRATIO\", \"B\", \"LSTAT\"])\n",
        "dataset[\"MEDV\"] = target\n",
        "\n",
        "# Display the first few rows of the dataset\n",
        "print(dataset.head())\n"
      ],
      "metadata": {
        "colab": {
          "base_uri": "https://localhost:8080/"
        },
        "id": "gV24ZFU-J1Tp",
        "outputId": "d4934001-a584-4497-e6c8-3728dbf4544d"
      },
      "execution_count": 21,
      "outputs": [
        {
          "output_type": "stream",
          "name": "stdout",
          "text": [
            "      CRIM    ZN  INDUS  CHAS    NOX     RM   AGE     DIS  RAD    TAX  \\\n",
            "0  0.00632  18.0   2.31   0.0  0.538  6.575  65.2  4.0900  1.0  296.0   \n",
            "1  0.02731   0.0   7.07   0.0  0.469  6.421  78.9  4.9671  2.0  242.0   \n",
            "2  0.02729   0.0   7.07   0.0  0.469  7.185  61.1  4.9671  2.0  242.0   \n",
            "3  0.03237   0.0   2.18   0.0  0.458  6.998  45.8  6.0622  3.0  222.0   \n",
            "4  0.06905   0.0   2.18   0.0  0.458  7.147  54.2  6.0622  3.0  222.0   \n",
            "\n",
            "   PTRATIO       B  LSTAT  MEDV  \n",
            "0     15.3  396.90   4.98  24.0  \n",
            "1     17.8  396.90   9.14  21.6  \n",
            "2     17.8  392.83   4.03  34.7  \n",
            "3     18.7  394.63   2.94  33.4  \n",
            "4     18.7  396.90   5.33  36.2  \n"
          ]
        }
      ]
    },
    {
      "cell_type": "code",
      "source": [
        "# Creating a DataFrame with the loaded data\n",
        "dataset = pd.DataFrame(data, columns=[\"CRIM\", \"ZN\", \"INDUS\", \"CHAS\", \"NOX\", \"RM\", \"AGE\", \"DIS\", \"RAD\", \"TAX\", \"PTRATIO\", \"B\", \"LSTAT\"])\n",
        "dataset[\"MEDV\"] = target"
      ],
      "metadata": {
        "id": "JVHKlY0bJiej"
      },
      "execution_count": 22,
      "outputs": []
    },
    {
      "cell_type": "code",
      "source": [
        "# Display the first few rows of the dataset\n",
        "print(dataset.head())"
      ],
      "metadata": {
        "colab": {
          "base_uri": "https://localhost:8080/"
        },
        "id": "tQaxda_aJig9",
        "outputId": "81c04ad0-35ad-4383-e9a2-5d3174434ead"
      },
      "execution_count": 23,
      "outputs": [
        {
          "output_type": "stream",
          "name": "stdout",
          "text": [
            "      CRIM    ZN  INDUS  CHAS    NOX     RM   AGE     DIS  RAD    TAX  \\\n",
            "0  0.00632  18.0   2.31   0.0  0.538  6.575  65.2  4.0900  1.0  296.0   \n",
            "1  0.02731   0.0   7.07   0.0  0.469  6.421  78.9  4.9671  2.0  242.0   \n",
            "2  0.02729   0.0   7.07   0.0  0.469  7.185  61.1  4.9671  2.0  242.0   \n",
            "3  0.03237   0.0   2.18   0.0  0.458  6.998  45.8  6.0622  3.0  222.0   \n",
            "4  0.06905   0.0   2.18   0.0  0.458  7.147  54.2  6.0622  3.0  222.0   \n",
            "\n",
            "   PTRATIO       B  LSTAT  MEDV  \n",
            "0     15.3  396.90   4.98  24.0  \n",
            "1     17.8  396.90   9.14  21.6  \n",
            "2     17.8  392.83   4.03  34.7  \n",
            "3     18.7  394.63   2.94  33.4  \n",
            "4     18.7  396.90   5.33  36.2  \n"
          ]
        }
      ]
    },
    {
      "cell_type": "code",
      "source": [
        "# Splitting the data into features and target\n",
        "X = dataset.iloc[:, :-1].values\n",
        "y = dataset.iloc[:, -1].values"
      ],
      "metadata": {
        "id": "utSIJYf5JijK"
      },
      "execution_count": 24,
      "outputs": []
    },
    {
      "cell_type": "code",
      "source": [
        "# Splitting the dataset into the Training set and Test set\n",
        "X_train, X_test, y_train, y_test = train_test_split(X, y, test_size=0.2, random_state=42)"
      ],
      "metadata": {
        "id": "fSZfK_oKJil2"
      },
      "execution_count": 25,
      "outputs": []
    },
    {
      "cell_type": "code",
      "source": [
        "# Feature Scaling\n",
        "scaler = StandardScaler()\n",
        "X_train = scaler.fit_transform(X_train)\n",
        "X_test = scaler.transform(X_test)\n"
      ],
      "metadata": {
        "id": "vKyj8uCgJint"
      },
      "execution_count": 26,
      "outputs": []
    },
    {
      "cell_type": "code",
      "source": [
        "# Initializing the ANN\n",
        "model = tf.keras.Sequential()"
      ],
      "metadata": {
        "id": "GmragY8pJiqU"
      },
      "execution_count": 27,
      "outputs": []
    },
    {
      "cell_type": "code",
      "source": [
        "# Adding the input layer and the first hidden layer\n",
        "model.add(tf.keras.layers.Dense(units=64, activation='relu', input_shape=(X_train.shape[1],)))"
      ],
      "metadata": {
        "id": "eEAfx5dwJisb"
      },
      "execution_count": 28,
      "outputs": []
    },
    {
      "cell_type": "code",
      "source": [
        "# Adding the second hidden layer\n",
        "model.add(tf.keras.layers.Dense(units=64, activation='relu'))"
      ],
      "metadata": {
        "id": "l__sTKxkJiux"
      },
      "execution_count": 29,
      "outputs": []
    },
    {
      "cell_type": "code",
      "source": [
        "# Adding the output layer\n",
        "model.add(tf.keras.layers.Dense(units=1))"
      ],
      "metadata": {
        "id": "nNBQJjkfJixL"
      },
      "execution_count": 30,
      "outputs": []
    },
    {
      "cell_type": "code",
      "source": [
        "# Compiling the ANN\n",
        "model.compile(optimizer='adam', loss='mean_squared_error')"
      ],
      "metadata": {
        "id": "jgJgJo-iJiz7"
      },
      "execution_count": 31,
      "outputs": []
    },
    {
      "cell_type": "code",
      "source": [
        "# Training the ANN on the Training set\n",
        "model.fit(X_train, y_train, batch_size=32, epochs=100, validation_split=0.25)"
      ],
      "metadata": {
        "colab": {
          "base_uri": "https://localhost:8080/"
        },
        "id": "zC8cPrpGJi2Z",
        "outputId": "7b593b3a-13b8-4dd8-8e1c-90c5d0a55c61"
      },
      "execution_count": 32,
      "outputs": [
        {
          "output_type": "stream",
          "name": "stdout",
          "text": [
            "Epoch 1/100\n",
            "10/10 [==============================] - 1s 26ms/step - loss: 577.5828 - val_loss: 526.3782\n",
            "Epoch 2/100\n",
            "10/10 [==============================] - 0s 10ms/step - loss: 531.1995 - val_loss: 478.9625\n",
            "Epoch 3/100\n",
            "10/10 [==============================] - 0s 10ms/step - loss: 476.5358 - val_loss: 420.1726\n",
            "Epoch 4/100\n",
            "10/10 [==============================] - 0s 9ms/step - loss: 409.2199 - val_loss: 347.3423\n",
            "Epoch 5/100\n",
            "10/10 [==============================] - 0s 9ms/step - loss: 327.9997 - val_loss: 261.8226\n",
            "Epoch 6/100\n",
            "10/10 [==============================] - 0s 11ms/step - loss: 242.5020 - val_loss: 175.5468\n",
            "Epoch 7/100\n",
            "10/10 [==============================] - 0s 7ms/step - loss: 165.6631 - val_loss: 107.8716\n",
            "Epoch 8/100\n",
            "10/10 [==============================] - 0s 7ms/step - loss: 108.7990 - val_loss: 70.3179\n",
            "Epoch 9/100\n",
            "10/10 [==============================] - 0s 8ms/step - loss: 81.1722 - val_loss: 51.2159\n",
            "Epoch 10/100\n",
            "10/10 [==============================] - 0s 7ms/step - loss: 62.0657 - val_loss: 41.1353\n",
            "Epoch 11/100\n",
            "10/10 [==============================] - 0s 5ms/step - loss: 47.0555 - val_loss: 34.1896\n",
            "Epoch 12/100\n",
            "10/10 [==============================] - 0s 7ms/step - loss: 37.3916 - val_loss: 30.7424\n",
            "Epoch 13/100\n",
            "10/10 [==============================] - 0s 7ms/step - loss: 31.3136 - val_loss: 29.1412\n",
            "Epoch 14/100\n",
            "10/10 [==============================] - 0s 5ms/step - loss: 27.6882 - val_loss: 27.7541\n",
            "Epoch 15/100\n",
            "10/10 [==============================] - 0s 7ms/step - loss: 24.9958 - val_loss: 27.2792\n",
            "Epoch 16/100\n",
            "10/10 [==============================] - 0s 5ms/step - loss: 23.3112 - val_loss: 27.0913\n",
            "Epoch 17/100\n",
            "10/10 [==============================] - 0s 7ms/step - loss: 22.1721 - val_loss: 26.6274\n",
            "Epoch 18/100\n",
            "10/10 [==============================] - 0s 6ms/step - loss: 21.2354 - val_loss: 25.6835\n",
            "Epoch 19/100\n",
            "10/10 [==============================] - 0s 6ms/step - loss: 20.2635 - val_loss: 25.1821\n",
            "Epoch 20/100\n",
            "10/10 [==============================] - 0s 5ms/step - loss: 19.3950 - val_loss: 24.6001\n",
            "Epoch 21/100\n",
            "10/10 [==============================] - 0s 7ms/step - loss: 18.7062 - val_loss: 24.0638\n",
            "Epoch 22/100\n",
            "10/10 [==============================] - 0s 8ms/step - loss: 18.0907 - val_loss: 23.5294\n",
            "Epoch 23/100\n",
            "10/10 [==============================] - 0s 12ms/step - loss: 17.4916 - val_loss: 23.0297\n",
            "Epoch 24/100\n",
            "10/10 [==============================] - 0s 16ms/step - loss: 16.9691 - val_loss: 22.6379\n",
            "Epoch 25/100\n",
            "10/10 [==============================] - 0s 15ms/step - loss: 16.5475 - val_loss: 22.3208\n",
            "Epoch 26/100\n",
            "10/10 [==============================] - 0s 11ms/step - loss: 16.0856 - val_loss: 21.7260\n",
            "Epoch 27/100\n",
            "10/10 [==============================] - 0s 11ms/step - loss: 15.7326 - val_loss: 21.0699\n",
            "Epoch 28/100\n",
            "10/10 [==============================] - 0s 10ms/step - loss: 15.3234 - val_loss: 20.7375\n",
            "Epoch 29/100\n",
            "10/10 [==============================] - 0s 15ms/step - loss: 15.1017 - val_loss: 20.6124\n",
            "Epoch 30/100\n",
            "10/10 [==============================] - 0s 11ms/step - loss: 14.6188 - val_loss: 20.2602\n",
            "Epoch 31/100\n",
            "10/10 [==============================] - 0s 15ms/step - loss: 14.3115 - val_loss: 20.1056\n",
            "Epoch 32/100\n",
            "10/10 [==============================] - 0s 12ms/step - loss: 14.0644 - val_loss: 19.8546\n",
            "Epoch 33/100\n",
            "10/10 [==============================] - 0s 17ms/step - loss: 13.8328 - val_loss: 19.1562\n",
            "Epoch 34/100\n",
            "10/10 [==============================] - 0s 23ms/step - loss: 13.5921 - val_loss: 19.1698\n",
            "Epoch 35/100\n",
            "10/10 [==============================] - 0s 28ms/step - loss: 13.3567 - val_loss: 18.9253\n",
            "Epoch 36/100\n",
            "10/10 [==============================] - 0s 16ms/step - loss: 13.0703 - val_loss: 18.5798\n",
            "Epoch 37/100\n",
            "10/10 [==============================] - 0s 14ms/step - loss: 13.0534 - val_loss: 18.4628\n",
            "Epoch 38/100\n",
            "10/10 [==============================] - 0s 12ms/step - loss: 12.7261 - val_loss: 18.4961\n",
            "Epoch 39/100\n",
            "10/10 [==============================] - 0s 20ms/step - loss: 12.6153 - val_loss: 18.4939\n",
            "Epoch 40/100\n",
            "10/10 [==============================] - 0s 17ms/step - loss: 12.4255 - val_loss: 18.0853\n",
            "Epoch 41/100\n",
            "10/10 [==============================] - 0s 14ms/step - loss: 12.2551 - val_loss: 18.1074\n",
            "Epoch 42/100\n",
            "10/10 [==============================] - 0s 17ms/step - loss: 12.0767 - val_loss: 18.0101\n",
            "Epoch 43/100\n",
            "10/10 [==============================] - 0s 15ms/step - loss: 11.9482 - val_loss: 17.6481\n",
            "Epoch 44/100\n",
            "10/10 [==============================] - 0s 15ms/step - loss: 11.8210 - val_loss: 17.6153\n",
            "Epoch 45/100\n",
            "10/10 [==============================] - 0s 20ms/step - loss: 11.6888 - val_loss: 17.3660\n",
            "Epoch 46/100\n",
            "10/10 [==============================] - 0s 10ms/step - loss: 11.5594 - val_loss: 17.5096\n",
            "Epoch 47/100\n",
            "10/10 [==============================] - 0s 11ms/step - loss: 11.4461 - val_loss: 17.3733\n",
            "Epoch 48/100\n",
            "10/10 [==============================] - 0s 6ms/step - loss: 11.3102 - val_loss: 17.1182\n",
            "Epoch 49/100\n",
            "10/10 [==============================] - 0s 7ms/step - loss: 11.2331 - val_loss: 17.0890\n",
            "Epoch 50/100\n",
            "10/10 [==============================] - 0s 7ms/step - loss: 11.1420 - val_loss: 16.9343\n",
            "Epoch 51/100\n",
            "10/10 [==============================] - 0s 6ms/step - loss: 11.0714 - val_loss: 16.9634\n",
            "Epoch 52/100\n",
            "10/10 [==============================] - 0s 8ms/step - loss: 10.9448 - val_loss: 16.7050\n",
            "Epoch 53/100\n",
            "10/10 [==============================] - 0s 6ms/step - loss: 10.8229 - val_loss: 16.5431\n",
            "Epoch 54/100\n",
            "10/10 [==============================] - 0s 5ms/step - loss: 10.7810 - val_loss: 16.6831\n",
            "Epoch 55/100\n",
            "10/10 [==============================] - 0s 5ms/step - loss: 10.6496 - val_loss: 16.4207\n",
            "Epoch 56/100\n",
            "10/10 [==============================] - 0s 6ms/step - loss: 10.5937 - val_loss: 16.3731\n",
            "Epoch 57/100\n",
            "10/10 [==============================] - 0s 6ms/step - loss: 10.4896 - val_loss: 16.3665\n",
            "Epoch 58/100\n",
            "10/10 [==============================] - 0s 6ms/step - loss: 10.3420 - val_loss: 16.2789\n",
            "Epoch 59/100\n",
            "10/10 [==============================] - 0s 5ms/step - loss: 10.2895 - val_loss: 16.2309\n",
            "Epoch 60/100\n",
            "10/10 [==============================] - 0s 6ms/step - loss: 10.2314 - val_loss: 16.1100\n",
            "Epoch 61/100\n",
            "10/10 [==============================] - 0s 5ms/step - loss: 10.0929 - val_loss: 15.8953\n",
            "Epoch 62/100\n",
            "10/10 [==============================] - 0s 5ms/step - loss: 10.0716 - val_loss: 15.9925\n",
            "Epoch 63/100\n",
            "10/10 [==============================] - 0s 5ms/step - loss: 9.9586 - val_loss: 15.8839\n",
            "Epoch 64/100\n",
            "10/10 [==============================] - 0s 5ms/step - loss: 9.9438 - val_loss: 15.6949\n",
            "Epoch 65/100\n",
            "10/10 [==============================] - 0s 5ms/step - loss: 9.8351 - val_loss: 15.8384\n",
            "Epoch 66/100\n",
            "10/10 [==============================] - 0s 5ms/step - loss: 9.8085 - val_loss: 15.6741\n",
            "Epoch 67/100\n",
            "10/10 [==============================] - 0s 6ms/step - loss: 9.7409 - val_loss: 15.5796\n",
            "Epoch 68/100\n",
            "10/10 [==============================] - 0s 6ms/step - loss: 9.7296 - val_loss: 15.4945\n",
            "Epoch 69/100\n",
            "10/10 [==============================] - 0s 8ms/step - loss: 9.5765 - val_loss: 15.6530\n",
            "Epoch 70/100\n",
            "10/10 [==============================] - 0s 8ms/step - loss: 9.6218 - val_loss: 15.5750\n",
            "Epoch 71/100\n",
            "10/10 [==============================] - 0s 7ms/step - loss: 9.4423 - val_loss: 15.5723\n",
            "Epoch 72/100\n",
            "10/10 [==============================] - 0s 7ms/step - loss: 9.4544 - val_loss: 15.5205\n",
            "Epoch 73/100\n",
            "10/10 [==============================] - 0s 6ms/step - loss: 9.4522 - val_loss: 15.2591\n",
            "Epoch 74/100\n",
            "10/10 [==============================] - 0s 5ms/step - loss: 9.2828 - val_loss: 15.3841\n",
            "Epoch 75/100\n",
            "10/10 [==============================] - 0s 6ms/step - loss: 9.2395 - val_loss: 15.3479\n",
            "Epoch 76/100\n",
            "10/10 [==============================] - 0s 6ms/step - loss: 9.1656 - val_loss: 15.2689\n",
            "Epoch 77/100\n",
            "10/10 [==============================] - 0s 7ms/step - loss: 9.2656 - val_loss: 15.0483\n",
            "Epoch 78/100\n",
            "10/10 [==============================] - 0s 6ms/step - loss: 9.1233 - val_loss: 15.1280\n",
            "Epoch 79/100\n",
            "10/10 [==============================] - 0s 7ms/step - loss: 9.0616 - val_loss: 15.2788\n",
            "Epoch 80/100\n",
            "10/10 [==============================] - 0s 6ms/step - loss: 8.9475 - val_loss: 15.1294\n",
            "Epoch 81/100\n",
            "10/10 [==============================] - 0s 5ms/step - loss: 8.8795 - val_loss: 15.2904\n",
            "Epoch 82/100\n",
            "10/10 [==============================] - 0s 7ms/step - loss: 8.8503 - val_loss: 15.2001\n",
            "Epoch 83/100\n",
            "10/10 [==============================] - 0s 5ms/step - loss: 8.7643 - val_loss: 15.0942\n",
            "Epoch 84/100\n",
            "10/10 [==============================] - 0s 7ms/step - loss: 8.7273 - val_loss: 15.1716\n",
            "Epoch 85/100\n",
            "10/10 [==============================] - 0s 7ms/step - loss: 8.6926 - val_loss: 15.1619\n",
            "Epoch 86/100\n",
            "10/10 [==============================] - 0s 7ms/step - loss: 8.6616 - val_loss: 15.1724\n",
            "Epoch 87/100\n",
            "10/10 [==============================] - 0s 6ms/step - loss: 8.5821 - val_loss: 15.0103\n",
            "Epoch 88/100\n",
            "10/10 [==============================] - 0s 6ms/step - loss: 8.5385 - val_loss: 14.9350\n",
            "Epoch 89/100\n",
            "10/10 [==============================] - 0s 6ms/step - loss: 8.4849 - val_loss: 14.9478\n",
            "Epoch 90/100\n",
            "10/10 [==============================] - 0s 5ms/step - loss: 8.4389 - val_loss: 14.8413\n",
            "Epoch 91/100\n",
            "10/10 [==============================] - 0s 5ms/step - loss: 8.3604 - val_loss: 14.7894\n",
            "Epoch 92/100\n",
            "10/10 [==============================] - 0s 7ms/step - loss: 8.3417 - val_loss: 14.8239\n",
            "Epoch 93/100\n",
            "10/10 [==============================] - 0s 6ms/step - loss: 8.2812 - val_loss: 14.8138\n",
            "Epoch 94/100\n",
            "10/10 [==============================] - 0s 5ms/step - loss: 8.2801 - val_loss: 14.7570\n",
            "Epoch 95/100\n",
            "10/10 [==============================] - 0s 5ms/step - loss: 8.2547 - val_loss: 14.9984\n",
            "Epoch 96/100\n",
            "10/10 [==============================] - 0s 6ms/step - loss: 8.1964 - val_loss: 14.9166\n",
            "Epoch 97/100\n",
            "10/10 [==============================] - 0s 7ms/step - loss: 8.1542 - val_loss: 14.7223\n",
            "Epoch 98/100\n",
            "10/10 [==============================] - 0s 7ms/step - loss: 8.0861 - val_loss: 14.6789\n",
            "Epoch 99/100\n",
            "10/10 [==============================] - 0s 5ms/step - loss: 8.0253 - val_loss: 14.7533\n",
            "Epoch 100/100\n",
            "10/10 [==============================] - 0s 5ms/step - loss: 8.0146 - val_loss: 14.5564\n"
          ]
        },
        {
          "output_type": "execute_result",
          "data": {
            "text/plain": [
              "<keras.src.callbacks.History at 0x7ff36a8b2fb0>"
            ]
          },
          "metadata": {},
          "execution_count": 32
        }
      ]
    },
    {
      "cell_type": "code",
      "source": [
        "# Predicting the Test set results\n",
        "y_pred = model.predict(X_test)"
      ],
      "metadata": {
        "colab": {
          "base_uri": "https://localhost:8080/"
        },
        "id": "85ApbgpdJi4p",
        "outputId": "65070965-8769-4efa-ab35-926af180bc87"
      },
      "execution_count": 33,
      "outputs": [
        {
          "output_type": "stream",
          "name": "stdout",
          "text": [
            "4/4 [==============================] - 0s 2ms/step\n"
          ]
        }
      ]
    },
    {
      "cell_type": "code",
      "source": [
        "# Evaluating the model\n",
        "from sklearn.metrics import mean_squared_error, r2_score\n",
        "mse = mean_squared_error(y_test, y_pred)\n",
        "r2 = r2_score(y_test, y_pred)\n",
        "print(\"Mean Squared Error:\", mse)\n",
        "print(\"R^2 Score:\", r2)"
      ],
      "metadata": {
        "colab": {
          "base_uri": "https://localhost:8080/"
        },
        "id": "fgBWeRtNJi6_",
        "outputId": "7fcf5a7a-091d-44e5-fbd8-7cf1a6bb8e8e"
      },
      "execution_count": 34,
      "outputs": [
        {
          "output_type": "stream",
          "name": "stdout",
          "text": [
            "Mean Squared Error: 12.688117886979793\n",
            "R^2 Score: 0.8269812719297337\n"
          ]
        }
      ]
    },
    {
      "cell_type": "code",
      "source": [],
      "metadata": {
        "id": "suSxG6H3Ji9r"
      },
      "execution_count": 34,
      "outputs": []
    },
    {
      "cell_type": "code",
      "source": [],
      "metadata": {
        "id": "xhjG9EfOJjAI"
      },
      "execution_count": 34,
      "outputs": []
    },
    {
      "cell_type": "code",
      "source": [],
      "metadata": {
        "id": "0jSOwy96JjCs"
      },
      "execution_count": 34,
      "outputs": []
    },
    {
      "cell_type": "code",
      "source": [],
      "metadata": {
        "id": "jqdsCpCvJjFA"
      },
      "execution_count": 34,
      "outputs": []
    },
    {
      "cell_type": "code",
      "source": [],
      "metadata": {
        "id": "X8-TI6ITJjHP"
      },
      "execution_count": 34,
      "outputs": []
    }
  ]
}